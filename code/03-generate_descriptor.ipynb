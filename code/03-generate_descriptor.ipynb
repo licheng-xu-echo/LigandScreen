{
 "cells": [
  {
   "cell_type": "markdown",
   "metadata": {},
   "source": [
    "## Generate 2D descriptor"
   ]
  },
  {
   "cell_type": "code",
   "execution_count": 9,
   "metadata": {},
   "outputs": [],
   "source": [
    "from asymopt.desc import getmorganfp,getPhysChemDesc\n",
    "import pandas as pd\n",
    "from rdkit import Chem\n",
    "from tqdm import tqdm"
   ]
  },
  {
   "cell_type": "code",
   "execution_count": 12,
   "metadata": {},
   "outputs": [],
   "source": [
    "lit_data = pd.read_csv(\"../data/processed/lit_data_with_cplex_smi.csv\")\n",
    "lit_complex_smi_lst = lit_data[\"complex_smi\"].to_list()\n",
    "lit_complex_lst = [Chem.MolFromSmiles(smi) for smi in lit_complex_smi_lst]"
   ]
  },
  {
   "cell_type": "code",
   "execution_count": 13,
   "metadata": {},
   "outputs": [
    {
     "name": "stderr",
     "output_type": "stream",
     "text": [
      "100%|██████████| 310/310 [00:17<00:00, 17.62it/s]\n"
     ]
    }
   ],
   "source": [
    "## Generate 2D descriptor\n",
    "lit_complex_fp_lst = []\n",
    "lit_complex_rdkit_lst = []\n",
    "for mol in tqdm(lit_complex_lst):\n",
    "    Chem.SanitizeMol(mol)\n",
    "    fp = getmorganfp(mol)\n",
    "    rdkit_desc = getPhysChemDesc(mol)\n",
    "    lit_complex_fp_lst.append(fp)\n",
    "    lit_complex_rdkit_lst.append(rdkit_desc)"
   ]
  }
 ],
 "metadata": {
  "kernelspec": {
   "display_name": "base",
   "language": "python",
   "name": "python3"
  },
  "language_info": {
   "codemirror_mode": {
    "name": "ipython",
    "version": 3
   },
   "file_extension": ".py",
   "mimetype": "text/x-python",
   "name": "python",
   "nbconvert_exporter": "python",
   "pygments_lexer": "ipython3",
   "version": "3.9.17"
  }
 },
 "nbformat": 4,
 "nbformat_minor": 2
}
