{
 "cells": [
  {
   "cell_type": "code",
   "execution_count": null,
   "metadata": {},
   "outputs": [],
   "source": [
    "import pandas as pd\n",
    "import numpy as np\n",
    "from tqdm import tqdm\n",
    "from rdkit import Chem\n",
    "from asymopt.geom import build_metal_sub_lig_comp_mol # To use the function, please run \"pip install .\" in the parent directory"
   ]
  },
  {
   "cell_type": "code",
   "execution_count": null,
   "metadata": {},
   "outputs": [
    {
     "name": "stderr",
     "output_type": "stream",
     "text": [
      "100%|██████████| 310/310 [00:00<00:00, 1728.71it/s]\n"
     ]
    }
   ],
   "source": [
    "lit_data = pd.read_csv(\"../data/processed/lit_data.csv\")\n",
    "lit_rct_1_smi_lst = lit_data[\"rct_1_smi\"].to_list()\n",
    "lit_rct_2_smi_lst = lit_data[\"rct_2_smi\"].to_list()\n",
    "lit_metal_lst = lit_data[\"metal\"].to_list()\n",
    "lit_lig_smi_lst = lit_data[\"lig_smi\"].to_list()\n",
    "\n",
    "## generate complex graph\n",
    "lit_complex_lst = [build_metal_sub_lig_comp_mol(rct_1,rct_2,metal,lig) for rct_1, rct_2, metal, lig in zip(lit_rct_1_smi_lst, \n",
    "                                                                                                           lit_rct_2_smi_lst, \n",
    "                                                                                                           lit_metal_lst, \n",
    "                                                                                                           lit_lig_smi_lst)]\n",
    "lit_complex_smi_lst = [Chem.MolToSmiles(mol) for mol in tqdm(lit_complex_lst)]"
   ]
  },
  {
   "cell_type": "code",
   "execution_count": null,
   "metadata": {},
   "outputs": [],
   "source": [
    "lit_data[\"complex_smi\"] = lit_complex_smi_lst\n",
    "lit_data.to_csv(\"../data/processed/lit_data_with_cplex_smi.csv\", index=False)"
   ]
  }
 ],
 "metadata": {
  "kernelspec": {
   "display_name": "base",
   "language": "python",
   "name": "python3"
  },
  "language_info": {
   "codemirror_mode": {
    "name": "ipython",
    "version": 3
   },
   "file_extension": ".py",
   "mimetype": "text/x-python",
   "name": "python",
   "nbconvert_exporter": "python",
   "pygments_lexer": "ipython3",
   "version": "3.9.17"
  }
 },
 "nbformat": 4,
 "nbformat_minor": 2
}
