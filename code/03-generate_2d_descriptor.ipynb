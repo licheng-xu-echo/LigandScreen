{
 "cells": [
  {
   "cell_type": "markdown",
   "metadata": {},
   "source": [
    "## Generate 2D descriptor"
   ]
  },
  {
   "cell_type": "code",
   "execution_count": 17,
   "metadata": {},
   "outputs": [],
   "source": [
    "from asymopt.desc import getmorganfp,getPhysChemDesc\n",
    "import pandas as pd\n",
    "from rdkit import Chem\n",
    "from tqdm import tqdm\n",
    "import numpy as np"
   ]
  },
  {
   "cell_type": "code",
   "execution_count": 12,
   "metadata": {},
   "outputs": [],
   "source": [
    "lit_data = pd.read_csv(\"../data/processed/lit_data_with_cplex_smi.csv\")\n",
    "lit_complex_smi_lst = lit_data[\"complex_smi\"].to_list()\n",
    "lit_complex_lst = [Chem.MolFromSmiles(smi) for smi in lit_complex_smi_lst]"
   ]
  },
  {
   "cell_type": "code",
   "execution_count": 18,
   "metadata": {},
   "outputs": [
    {
     "name": "stderr",
     "output_type": "stream",
     "text": [
      "100%|██████████| 310/310 [00:17<00:00, 17.30it/s]\n"
     ]
    }
   ],
   "source": [
    "## Generate 2D descriptor\n",
    "lit_complex_fp_lst = []\n",
    "lit_complex_rdkit_lst = []\n",
    "for mol in tqdm(lit_complex_lst):\n",
    "    Chem.SanitizeMol(mol)\n",
    "    fp = getmorganfp(mol)\n",
    "    rdkit_desc = getPhysChemDesc(mol)\n",
    "    lit_complex_fp_lst.append(fp)\n",
    "    lit_complex_rdkit_lst.append(np.array(rdkit_desc))\n",
    "lit_complex_fp_arr = np.array(lit_complex_fp_lst)\n",
    "lit_complex_rdkit_arr = np.array(lit_complex_rdkit_lst)"
   ]
  },
  {
   "cell_type": "code",
   "execution_count": 19,
   "metadata": {},
   "outputs": [
    {
     "data": {
      "text/plain": [
       "(array([[0, 0, 1, ..., 0, 0, 0],\n",
       "        [0, 0, 1, ..., 0, 0, 0],\n",
       "        [0, 0, 1, ..., 0, 0, 0],\n",
       "        [0, 1, 0, ..., 0, 0, 0],\n",
       "        [0, 1, 0, ..., 0, 0, 0]]),\n",
       " array([[6.66828646, 6.66828646, 0.58131889, ..., 0.        , 0.        ,\n",
       "         0.        ],\n",
       "        [6.66828646, 6.66828646, 0.58131889, ..., 0.        , 0.        ,\n",
       "         0.        ],\n",
       "        [6.66828646, 6.66828646, 0.58131889, ..., 0.        , 0.        ,\n",
       "         0.        ],\n",
       "        [7.66897853, 7.66897853, 0.43794675, ..., 0.        , 0.        ,\n",
       "         0.        ],\n",
       "        [7.66897853, 7.66897853, 0.43794675, ..., 0.        , 0.        ,\n",
       "         0.        ]]))"
      ]
     },
     "execution_count": 19,
     "metadata": {},
     "output_type": "execute_result"
    }
   ],
   "source": [
    "lit_complex_fp_arr[:5], lit_complex_rdkit_arr[:5]"
   ]
  }
 ],
 "metadata": {
  "kernelspec": {
   "display_name": "base",
   "language": "python",
   "name": "python3"
  },
  "language_info": {
   "codemirror_mode": {
    "name": "ipython",
    "version": 3
   },
   "file_extension": ".py",
   "mimetype": "text/x-python",
   "name": "python",
   "nbconvert_exporter": "python",
   "pygments_lexer": "ipython3",
   "version": "3.9.17"
  }
 },
 "nbformat": 4,
 "nbformat_minor": 2
}
