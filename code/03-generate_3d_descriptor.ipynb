{
 "cells": [
  {
   "cell_type": "markdown",
   "metadata": {},
   "source": [
    "This notebook shows how to generate descriptors with few examples."
   ]
  },
  {
   "cell_type": "code",
   "execution_count": 1,
   "metadata": {},
   "outputs": [],
   "source": [
    "import numpy as np\n",
    "from asymopt.desc import StericDescriptor"
   ]
  },
  {
   "cell_type": "markdown",
   "metadata": {},
   "source": [
    "## Generate PhysOrg descriptors"
   ]
  },
  {
   "cell_type": "markdown",
   "metadata": {},
   "source": [
    "The electronic descriptors were generated through single-point energy calculations using xTB, and they were extracted and saved in the directory like: './ind_3d_geom/xx/xtb/xx/desc_ens.npy'."
   ]
  },
  {
   "cell_type": "markdown",
   "metadata": {},
   "source": [
    "### Ligand (ligand-metal complex)"
   ]
  },
  {
   "cell_type": "code",
   "execution_count": 2,
   "metadata": {},
   "outputs": [],
   "source": [
    "# use 'xTBCalculator' and 'xTBDescriptor' class can generate follow meta files:\n",
    "eg_init_file = '../demo/ind_3d_geom/lig_0/xtb/lig_0/lig_0.xyz'\n",
    "eg_opted_file = '../demo/ind_3d_geom/lig_0/xtb/lig_0/xtbopt.xyz'\n",
    "eg_elec_desc_file = '../demo/ind_3d_geom/lig_0/xtb/lig_0/desc_ens.npy'\n",
    "with open(eg_init_file,'r') as fr:\n",
    "    lines = fr.readlines()\n",
    "metal = lines[1].strip().split('///')[1]\n",
    "coords = lines[2:]\n",
    "symbols = [coord.strip().split()[0] for coord in coords]\n",
    "metal_idx = [idx for idx in range(len(symbols)) if symbols[idx] == metal][0]\n",
    "desc_ens = np.load(eg_elec_desc_file,allow_pickle=True).item()\n",
    "xtb_global_desc = np.concatenate([[val] if isinstance(val,float) else val for val in list(desc_ens['global'].values())])\n",
    "xtb_desc_metal = np.concatenate([desc_ens['local'][key][metal_idx] for key in ['charges','fukui']])\n",
    "\n",
    "stereo_desc_calc = StericDescriptor(eg_opted_file)\n",
    "stero_desc = np.array(stereo_desc_calc.BV(metal_idx))\n",
    "lig_physorg_desc = np.concatenate([xtb_global_desc,xtb_desc_metal,stero_desc])"
   ]
  },
  {
   "cell_type": "markdown",
   "metadata": {},
   "source": [
    "### Reactant 1"
   ]
  },
  {
   "cell_type": "code",
   "execution_count": 5,
   "metadata": {},
   "outputs": [],
   "source": [
    "eg_init_file = '../demo/ind_3d_geom/rct_1_0/xtb/rct_1_0/rct_1_0.xyz'\n",
    "eg_opted_file = '../demo/ind_3d_geom/rct_1_0/xtb/rct_1_0/xtbopt.xyz'\n",
    "eg_elec_desc_file = '../demo/ind_3d_geom/rct_1_0/xtb/rct_1_0/desc_ens.npy'\n",
    "\n",
    "with open(eg_init_file,'r') as fr:\n",
    "    lines = fr.readlines()\n",
    "attach_idx_lst = eval(lines[1].strip().split('///')[1])\n",
    "group_idx_lst = eval(lines[1].strip().split('///')[2])\n",
    "\n",
    "desc_ens = np.load(eg_elec_desc_file,allow_pickle=True).item()\n",
    "xtb_global_desc = np.concatenate([[val] if isinstance(val,float) else val for val in list(desc_ens['global'].values())])\n",
    "attach_idx = attach_idx_lst[0]\n",
    "xtb_desc_attach = np.concatenate([desc_ens['local'][key][attach_idx] for key in ['charges','fukui']])\n",
    "stereo_desc_calc = StericDescriptor(eg_opted_file)\n",
    "stero_desc = np.array(stereo_desc_calc.BV(attach_idx) + stereo_desc_calc.Sterimol(attach_idx,group_idx_lst[0][0]))\n",
    "rct1_physorg_desc = np.concatenate([xtb_global_desc,xtb_desc_attach,stero_desc])"
   ]
  },
  {
   "cell_type": "markdown",
   "metadata": {},
   "source": [
    "### Reactant 2"
   ]
  },
  {
   "cell_type": "code",
   "execution_count": 6,
   "metadata": {},
   "outputs": [],
   "source": [
    "eg_init_file = '../demo/ind_3d_geom/rct_2_0/xtb/rct_2_0/rct_2_0.xyz'\n",
    "eg_opted_file = '../demo/ind_3d_geom/rct_2_0/xtb/rct_2_0/xtbopt.xyz'\n",
    "eg_elec_desc_file = '../demo/ind_3d_geom/rct_2_0/xtb/rct_2_0/desc_ens.npy'\n",
    "\n",
    "with open(eg_init_file,'r') as fr:\n",
    "    lines = fr.readlines()\n",
    "coords = lines[2:]\n",
    "symbols = [coord.strip().split()[0] for coord in coords]\n",
    "\n",
    "attach_idx_lst = eval(lines[1].strip().split('///')[1])\n",
    "group_idx_lst = eval(lines[1].strip().split('///')[2])\n",
    "\n",
    "desc_ens = np.load(eg_elec_desc_file,allow_pickle=True).item()\n",
    "xtb_global_desc = np.concatenate([[val] if isinstance(val,float) else val for val in list(desc_ens['global'].values())])\n",
    "attach_idx = attach_idx_lst[0]\n",
    "B_idx = [idx for idx in group_idx_lst[0] if symbols[idx] == 'B'][0]\n",
    "\n",
    "xtb_desc_attach = np.concatenate([desc_ens['local'][key][attach_idx] for key in ['charges','fukui']])\n",
    "\n",
    "stereo_desc_calc = StericDescriptor(eg_opted_file)\n",
    "stero_desc = np.array(stereo_desc_calc.BV(attach_idx) + stereo_desc_calc.Sterimol(attach_idx,B_idx))\n",
    "\n",
    "rct2_physorg_desc = np.concatenate([xtb_global_desc,xtb_desc_attach,stero_desc])"
   ]
  },
  {
   "cell_type": "markdown",
   "metadata": {},
   "source": [
    "## Other 3D-geometry-based descrptor"
   ]
  },
  {
   "cell_type": "code",
   "execution_count": 1,
   "metadata": {},
   "outputs": [],
   "source": [
    "from dscribe.descriptors import MBTR,ACSF\n",
    "from ase.io import read as ase_read\n",
    "from asymopt.geom import xyz2coords,find_closest_to_center"
   ]
  },
  {
   "cell_type": "code",
   "execution_count": 2,
   "metadata": {},
   "outputs": [],
   "source": [
    "r1_species = ['O', 'P', 'F', 'Br', 'N', 'I',\n",
    "              'C', 'S', 'H', 'Si', 'Cl']\n",
    "r2_species = ['O', 'F', 'K', 'B', 'C', 'H']\n",
    "lig_species = ['O', 'P', 'F', 'Pd', 'N', 'Fe',\n",
    "               'C', 'S', 'Si', 'Cl', 'Ni', 'H']  ## metal-ligand complex"
   ]
  },
  {
   "cell_type": "markdown",
   "metadata": {},
   "source": [
    "### ACSF"
   ]
  },
  {
   "cell_type": "code",
   "execution_count": 3,
   "metadata": {},
   "outputs": [],
   "source": [
    "r1_acsf = ACSF(\n",
    "    species=r1_species,\n",
    "    r_cut=6.0,\n",
    "    g2_params=[[1, 1], [1, 2], [1, 3]],\n",
    "    g4_params=[[1, 1, 1], [1, 2, 1], [1, 1, -1], [1, 2, -1]],\n",
    ")\n",
    "r2_acsf = ACSF(\n",
    "    species=r2_species,\n",
    "    r_cut=6.0,\n",
    "    g2_params=[[1, 1], [1, 2], [1, 3]],\n",
    "    g4_params=[[1, 1, 1], [1, 2, 1], [1, 1, -1], [1, 2, -1]],\n",
    ")\n",
    "lig_acsf = ACSF(\n",
    "    species=lig_species,\n",
    "    r_cut=6.0,\n",
    "    g2_params=[[1, 1], [1, 2], [1, 3]],\n",
    "    g4_params=[[1, 1, 1], [1, 2, 1], [1, 1, -1], [1, 2, -1]],\n",
    ") ## metal-ligand complex"
   ]
  },
  {
   "cell_type": "code",
   "execution_count": 4,
   "metadata": {},
   "outputs": [],
   "source": [
    "init_rct1_xyz_file = '../demo/ind_3d_geom/rct_1_0/xtb/rct_1_0/rct_1_0.xyz'\n",
    "init_rct2_xyz_file = '../demo/ind_3d_geom/rct_2_0/xtb/rct_2_0/rct_2_0.xyz'\n",
    "init_lig_xyz_file = '../demo/ind_3d_geom/lig_0/xtb/lig_0/lig_0.xyz'\n",
    "\n",
    "with open(init_rct1_xyz_file, 'r') as fr:\n",
    "    lines = fr.readlines()\n",
    "rct1_smi = lines[1].strip().split('///')[0]\n",
    "rct1_opt_xyz_file = '/'.join(init_rct1_xyz_file.split('/')[:-1]+['xtbopt.xyz'])\n",
    "rct1_coords = xyz2coords(rct1_opt_xyz_file)\n",
    "rct1_key_idx = find_closest_to_center(rct1_coords)\n",
    "rct1_ase_atoms = ase_read(rct1_opt_xyz_file,format='xyz')\n",
    "rct1_desc = r1_acsf.create(rct1_ase_atoms,centers=[rct1_key_idx])\n",
    "rct1_desc = rct1_desc.reshape(-1)\n",
    "\n",
    "with open(init_rct2_xyz_file, 'r') as fr:\n",
    "    lines = fr.readlines()\n",
    "rct2_smi = lines[1].strip().split('///')[0]\n",
    "rct2_opt_xyz_file = '/'.join(init_rct2_xyz_file.split('/')[:-1]+['xtbopt.xyz'])\n",
    "rct2_coords = xyz2coords(rct2_opt_xyz_file)\n",
    "rct2_key_idx = find_closest_to_center(rct2_coords)\n",
    "rct2_ase_atoms = ase_read(rct2_opt_xyz_file,format='xyz')\n",
    "rct2_desc = r2_acsf.create(rct2_ase_atoms,centers=[rct2_key_idx])\n",
    "rct2_desc = rct2_desc.reshape(-1)\n",
    "\n",
    "with open(init_lig_xyz_file, 'r') as fr:\n",
    "    lines = fr.readlines()\n",
    "lig_smi,metal = lines[1].strip().split('///')[:2]\n",
    "lig_opt_xyz_file = '/'.join(init_lig_xyz_file.split('/')[:-1]+['xtbopt.xyz'])\n",
    "lig_coords = xyz2coords(lig_opt_xyz_file)\n",
    "lig_key_idx = find_closest_to_center(lig_coords)\n",
    "lig_ase_atoms = ase_read(lig_opt_xyz_file,format='xyz')\n",
    "lig_desc = lig_acsf.create(lig_ase_atoms,centers=[lig_key_idx])\n",
    "lig_desc = lig_desc.reshape(-1)"
   ]
  },
  {
   "cell_type": "markdown",
   "metadata": {},
   "source": [
    "### MBTR"
   ]
  },
  {
   "cell_type": "code",
   "execution_count": 5,
   "metadata": {},
   "outputs": [],
   "source": [
    "r1_mbtr = MBTR(\n",
    "    species=r1_species,\n",
    "    geometry={\"function\": \"inverse_distance\"},\n",
    "    grid={\"min\": 0, \"max\": 1, \"n\": 100, \"sigma\": 0.1},\n",
    "    weighting={\"function\": \"exp\", \"scale\": 0.5, \"threshold\": 1e-3},\n",
    "    periodic=False,\n",
    "    normalization=\"l2\",\n",
    ")\n",
    "\n",
    "r2_mbtr = MBTR(\n",
    "    species=r2_species,\n",
    "    geometry={\"function\": \"inverse_distance\"},\n",
    "    grid={\"min\": 0, \"max\": 1, \"n\": 100, \"sigma\": 0.1},\n",
    "    weighting={\"function\": \"exp\", \"scale\": 0.5, \"threshold\": 1e-3},\n",
    "    periodic=False,\n",
    "    normalization=\"l2\",\n",
    ")\n",
    "\n",
    "lig_mbtr = MBTR(\n",
    "    species=lig_species,\n",
    "    geometry={\"function\": \"inverse_distance\"},\n",
    "    grid={\"min\": 0, \"max\": 1, \"n\": 100, \"sigma\": 0.1},\n",
    "    weighting={\"function\": \"exp\", \"scale\": 0.5, \"threshold\": 1e-3},\n",
    "    periodic=False,\n",
    "    normalization=\"l2\",\n",
    ")"
   ]
  },
  {
   "cell_type": "code",
   "execution_count": 6,
   "metadata": {},
   "outputs": [],
   "source": [
    "r1_mbtr = MBTR(\n",
    "    species=r1_species,\n",
    "    geometry={\"function\": \"inverse_distance\"},\n",
    "    grid={\"min\": 0, \"max\": 1, \"n\": 100, \"sigma\": 0.1},\n",
    "    weighting={\"function\": \"exp\", \"scale\": 0.5, \"threshold\": 1e-3},\n",
    "    periodic=False,\n",
    "    normalization=\"l2\",\n",
    ")\n",
    "\n",
    "r2_mbtr = MBTR(\n",
    "    species=r2_species,\n",
    "    geometry={\"function\": \"inverse_distance\"},\n",
    "    grid={\"min\": 0, \"max\": 1, \"n\": 100, \"sigma\": 0.1},\n",
    "    weighting={\"function\": \"exp\", \"scale\": 0.5, \"threshold\": 1e-3},\n",
    "    periodic=False,\n",
    "    normalization=\"l2\",\n",
    ")\n",
    "\n",
    "lig_mbtr = MBTR(\n",
    "    species=lig_species,\n",
    "    geometry={\"function\": \"inverse_distance\"},\n",
    "    grid={\"min\": 0, \"max\": 1, \"n\": 100, \"sigma\": 0.1},\n",
    "    weighting={\"function\": \"exp\", \"scale\": 0.5, \"threshold\": 1e-3},\n",
    "    periodic=False,\n",
    "    normalization=\"l2\",\n",
    ")"
   ]
  }
 ],
 "metadata": {
  "kernelspec": {
   "display_name": "base",
   "language": "python",
   "name": "python3"
  },
  "language_info": {
   "codemirror_mode": {
    "name": "ipython",
    "version": 3
   },
   "file_extension": ".py",
   "mimetype": "text/x-python",
   "name": "python",
   "nbconvert_exporter": "python",
   "pygments_lexer": "ipython3",
   "version": "3.9.17"
  }
 },
 "nbformat": 4,
 "nbformat_minor": 2
}
